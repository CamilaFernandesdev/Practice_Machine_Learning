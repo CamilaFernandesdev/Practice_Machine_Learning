{
 "cells": [
  {
   "cell_type": "markdown",
   "metadata": {},
   "source": [
    "\n",
    "# Medidas de desempenho de um classificador.\n",
    "\n",
    "Acurácia = fração de previsões corretas,\n",
    "indicador de parâmentro inicial. Porém não indica o quão bom é o nosso indicador.\n",
    "\n",
    "## MATRIZ DE CONFUSÃO"
   ]
  },
  {
   "cell_type": "code",
   "execution_count": null,
   "metadata": {},
   "outputs": [],
   "source": []
  }
 ],
 "metadata": {
  "language_info": {
   "name": "python"
  },
  "orig_nbformat": 4
 },
 "nbformat": 4,
 "nbformat_minor": 2
}
